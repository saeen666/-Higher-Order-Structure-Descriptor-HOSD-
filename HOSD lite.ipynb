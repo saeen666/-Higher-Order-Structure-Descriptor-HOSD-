{
 "cells": [
  {
   "cell_type": "markdown",
   "metadata": {},
   "source": [
    "<h3>This code/notebook calculates the histogram of given graphs and only compress graph of 3,4,5 cycle and then recalcualte them and then train random forest using k-fold. Only histogram are used for training in this code"
   ]
  },
  {
   "cell_type": "code",
   "execution_count": 17,
   "metadata": {},
   "outputs": [],
   "source": [
    "import igraph, time, copy, os, pickle, random\n",
    "from scipy.io import loadmat\n",
    "from collections import Counter\n",
    "import pickle, pathlib\n",
    "import numpy as np\n",
    "import pandas as pd\n",
    "import base\n",
    "import sys\n",
    "%matplotlib inline\n",
    "\n",
    "from sklearn.model_selection import GridSearchCV, StratifiedKFold\n",
    "from sklearn.ensemble import RandomForestClassifier\n",
    "from sklearn.model_selection import train_test_split\n",
    "from sklearn.metrics import classification_report\n",
    "from sklearn.metrics import accuracy_score\n",
    "\n",
    "from tqdm import tqdm, tqdm_notebook\n",
    "import matplotlib.pyplot as plt\n",
    "from IPython.core.display import display, SVG, HTML"
   ]
  },
  {
   "cell_type": "markdown",
   "metadata": {},
   "source": [
    "# functions"
   ]
  },
  {
   "cell_type": "code",
   "execution_count": 2,
   "metadata": {},
   "outputs": [],
   "source": [
    "def return_grid_search_random_forest():\n",
    "    return RandomForestClassifier(n_estimators=500, \n",
    "                        min_samples_leaf=1, \n",
    "                            min_weight_fraction_leaf=0.0, max_features=None, max_leaf_nodes=None, bootstrap=True, \n",
    "                                oob_score=False, n_jobs=8, random_state=666, verbose=0, warm_start=False,\n",
    "                                    max_depth = None,class_weight=\"balanced_subsample\")"
   ]
  },
  {
   "cell_type": "code",
   "execution_count": 3,
   "metadata": {},
   "outputs": [],
   "source": [
    "def return_connected_components(n=5, imp_feature=False):\n",
    "    '''\n",
    "    returns family of graphs as igraph objects\n",
    "    you can specify the number of connected components graphs here \n",
    "    imp_feature: if true will include only paths, cycle, stars and cliques\n",
    "    '''                            'g_6_47', 'g_6_58', 'g_4_2', 'g_5_21', 'g_6_24', 'g_6_47']\n",
    "    included_list = []\n",
    "    CONNECTED_COMPONENTS_PATH   = 'graphs'\n",
    "    LEN_OF_CONNECTED_COMPONENTS =  n\n",
    "    dirs = []\n",
    "    connected_graphs_components = {}\n",
    "    for i in os.listdir(CONNECTED_COMPONENTS_PATH):\n",
    "        if LEN_OF_CONNECTED_COMPONENTS >= int(i[3:]):\n",
    "            dirs.append(i)\n",
    "\n",
    "\n",
    "    for path in dirs:\n",
    "        for count,file in enumerate(os.listdir(os.path.join(CONNECTED_COMPONENTS_PATH, path))): \n",
    "            file_path = os.path.join(CONNECTED_COMPONENTS_PATH, path, file)\n",
    "            if file_path.endswith('.txt'):\n",
    "                count = ''.join(x for x in file if x.isdigit())\n",
    "                #if 'g_'+path[3:]+'_'+str(count) in included_list:\n",
    "                connected_graph = igraph.load(file_path).as_undirected()\n",
    "                connected_graphs_components['g_'+path[3:]+'_'+str(count)] = connected_graph\n",
    "    \n",
    "    if imp_feature and n==6:\n",
    "        arr = ['g_3_1', 'g_3_2', 'g_4_2', 'g_4_1', 'g_4_4', 'g_4_6',\n",
    "              'g_5_14', 'g_5_1', 'g_5_21', 'g_5_9', 'g_6_1','g_6_19','g_6_47', 'g_6_112']\n",
    "        connected_graphs_components_ = {i:connected_graphs_components[i] for i in arr}\n",
    "        return connected_graphs_components_\n",
    "    return connected_graphs_components          "
   ]
  },
  {
   "cell_type": "code",
   "execution_count": 4,
   "metadata": {},
   "outputs": [],
   "source": [
    "def return_hist_and_contracted_graphs(graph1, connected_graphs_components):\n",
    "    \n",
    "    '''computes the histogram of a dataset containing graphs for given connected components'''\n",
    "    \n",
    "    contracted_graphs = {}\n",
    "    dict_hist         = {}\n",
    "\n",
    "    for name, k_con_graph in connected_graphs_components.items():\n",
    "        v, len_v = return_disconnected_components(graph1, k_con_graph, name)\n",
    "        if len_v>0:\n",
    "            cntrct_graph = return_contracted_graph(graph1, list(v.values())[0])\n",
    "            contracted_graphs[name] = cntrct_graph\n",
    "            dict_hist[name]         = len_v\n",
    "    return dict_hist, contracted_graphs \n",
    "\n",
    "def return_contracted_graph(graph1, vertices, layer_val = 2):\n",
    "    '''contract grahs based on the given vertices\n",
    "    layer_val: on which layer we are doing contracting the graph'''\n",
    "    graph = copy.copy(graph1)\n",
    "    merge_v = graph.vs.indices\n",
    "    v_arr   = []\n",
    "    for v in vertices:\n",
    "        if len(v)>0:\n",
    "            merge_v = [v[0] if x in v else x for x in merge_v]\n",
    "            v_arr.append(v[0])\n",
    "    graph.contract_vertices(merge_v)\n",
    "    #simplify double edges to single edges and delete nodes that have no edge\n",
    "    graph.vs[v_arr]['layer'] = layer_val\n",
    "    graph.simplify(), graph.vs.select(_degree=0).delete()\n",
    "    graph.vs['idx']          = [str(i) for i in graph.vs.indices]\n",
    "    return graph\n",
    "\n",
    "def return_disconnected_components(graph1, connected_graphs_component, name, HOGN=False, layer_val = 2):\n",
    "    '''\n",
    "    finds the given family of graph in a given graph\n",
    "    HOGN: defines the verbosity level all verbosities are calculated by default\n",
    "    return mappings and histogram of family of subgraphs'''\n",
    "    graph = copy.copy(graph1)\n",
    "    disconnected_comp = {}\n",
    "    disconnected_comp[name] = []\n",
    "    HOGN_var = 0\n",
    "        \n",
    "    index = graph.subisomorphic_vf2(connected_graphs_component, return_mapping_21=True)[2]\n",
    "    if len(index)>0:\n",
    "        disconnected_comp[name].append(graph.vs[index]['idx'])\n",
    "        if HOGN and layer_val in graph.vs[index]['layer']:\n",
    "            HOGN_var +=1\n",
    "        graph.delete_vertices(index)\n",
    "    while len(index)>0:\n",
    "        index = graph.subisomorphic_vf2(connected_graphs_component, return_mapping_21=True)[2]\n",
    "        if len(index)>0:\n",
    "            disconnected_comp[name].append(graph.vs[index]['idx'])\n",
    "            if HOGN and layer_val in graph.vs[index]['layer']:\n",
    "                HOGN_var +=1\n",
    "            graph.delete_vertices(index)\n",
    "    disconnected_comp[name] = [list(map(int,i)) for i in disconnected_comp[name]]\n",
    "    if HOGN:\n",
    "        return disconnected_comp, len(list(disconnected_comp.values())[0]), HOGN_var\n",
    "    else:\n",
    "        return disconnected_comp, len(list(disconnected_comp.values())[0])\n",
    "\n",
    "def return_hist_and_contracted_graphs_of_graphs(graph1, connected_graphs_components, layer_val=2, save=True):\n",
    "     '''\n",
    "    computes the histogram of a dataset containing laready contracted graphs input as dict for given connected components\n",
    "    can be extended to multiple layers'''\n",
    "    contracted_graphs= {}\n",
    "    dict_hist        = {}\n",
    "    range_val        = 6\n",
    "    new_dict         = {}\n",
    "    #contracted_graphs[key] = {}\n",
    "    for idx, graph in graph1.items():\n",
    "        new_dict = {idx+\"_\"+str(i)+'_'+str(layer_val)+\"_\"+str(j):0 for j in range(0,range_val+1) for i in range(3,range_val+1)}\n",
    "        for name, k_con_graph in connected_graphs_components.items():\n",
    "            v, len_v, HOGN_var = return_disconnected_components(graph, k_con_graph, name, HOGN = True, layer_val=layer_val)\n",
    "            for i in list(v.values())[0]:\n",
    "                new_dict[idx+\"_\"+name[2:3]+\"_\"+str(layer_val)+\"_\"+str(graph.vs[i]['layer'].count(layer_val))] += 1 \n",
    "            if save:\n",
    "                contracted_graphs[idx+\"-\"+name] = return_contracted_graph(graph, list(v.values())[0])\n",
    "            dict_hist[idx+\"-\"+name+\"-HOGN\"] = HOGN_var\n",
    "            dict_hist[idx+\"-\"+name]         = len_v\n",
    "    return  {**dict_hist, **new_dict} , contracted_graphs\n",
    "\n"
   ]
  },
  {
   "cell_type": "code",
   "execution_count": 5,
   "metadata": {},
   "outputs": [],
   "source": [
    "def scale_and_drop_col(data_train, data_test, frac=0.9, scale = True):\n",
    "    data_train      = data_train[data_train.columns[((data_train == 0).astype(int).sum(axis=0)/data_train.shape[0])<frac]] # keep col with 0 less that 90%\n",
    "    data_test       = data_test[data_train.columns]\n",
    "    #columns that are in float or not integer\n",
    "    scaler       = MinMaxScaler()\n",
    "    #scale integer column from range 0-1\n",
    "    scaled_columns = None\n",
    "    if scale:\n",
    "        scaled_columns = data_train.columns\n",
    "        scaled_train   = scaler.fit_transform(data_train.values)\n",
    "        data_train     = pd.DataFrame(scaled_train, columns = scaled_columns)\n",
    "        data_test      = pd.DataFrame(scaler.transform(data_test[scaled_columns].values), columns = scaled_columns)\n",
    "    #concat the scaled integer columns with float columns\n",
    "    \n",
    "    return data_train, data_test, scaler, scaled_columns"
   ]
  },
  {
   "cell_type": "code",
   "execution_count": 6,
   "metadata": {},
   "outputs": [],
   "source": [
    "def return_dataset(file_name):\n",
    "     '''\n",
    "    downloads the data from graph kernel website only limited graphs are available\n",
    "    returns graphs as igraph object, their attribue and class label'''\n",
    "    #i = 'G_nci1'\n",
    "    dd = base.fetch_dataset(file_name)\n",
    "    graph_list = []\n",
    "    node_attr = []\n",
    "    for gg in dd.data:\n",
    "        v = set([i[0] for i in gg[0]]).union(set([i[1] for i in gg[0]]))\n",
    "        g_ = igraph.Graph()\n",
    "        g_.add_vertices([str(i) for i in v])\n",
    "        g_.add_edges([(str(i[0]), str(i[1])) for i in gg[0]])\n",
    "        g_.simplify()\n",
    "        graph_list.append(g_)\n",
    "        g_.vs['idx'] = [str(i) for i in g_.vs.indices]\n",
    "        node_attr.append(gg[1])\n",
    "    data_y = dd.target\n",
    "    return graph_list, data_y, node_attr\n",
    "\n",
    "def set_node_attrs(graph_list, data_nodes):\n",
    "    for i in range(len(graph_list)):\n",
    "        for key, value in data_nodes[i].items():\n",
    "            try:\n",
    "                graph_list[i].vs.find(str(key))['attr'] = value\n",
    "            except ValueError:\n",
    "                print('Lonely node at',i,key)"
   ]
  },
  {
   "cell_type": "code",
   "execution_count": 7,
   "metadata": {},
   "outputs": [],
   "source": [
    "def return_basic_stat(graph_list):\n",
    "     '''\n",
    "    returns edge and vertex count'''\n",
    "    data_k = {}\n",
    "    for idx , graph_ in enumerate(graph_list):\n",
    "        data_k[idx] = {}\n",
    "        data_k[idx]['n_V']    = graph_.vcount() \n",
    "        data_k[idx]['n_e']    = graph_.ecount()\n",
    "    return data_k\n",
    "\n",
    "def return_basic_stat_contracted(graph_cn):\n",
    "    '''returns edge and vertex count of contract graphs given in a dict'''\n",
    "    data_k = {}\n",
    "    for idx , graph_ in graph_cn.items():\n",
    "        data_k[idx+\"_N_v\"]    = graph_.vcount() \n",
    "        data_k[idx+\"_N_e\"]    = graph_.ecount()\n",
    "        #data_k[idx]['avg_path_len'] =  graph_.average_path_length()\n",
    "        \n",
    "        #data_k[idx]['conn_comp']    =  len(graph_.components())\n",
    "    return data_k"
   ]
  },
  {
   "cell_type": "code",
   "execution_count": 8,
   "metadata": {},
   "outputs": [],
   "source": [
    "range_val = 6"
   ]
  },
  {
   "cell_type": "markdown",
   "metadata": {},
   "source": [
    "# Calculate Histogram (change name of dataset here)"
   ]
  },
  {
   "cell_type": "markdown",
   "metadata": {},
   "source": [
    "Execute the code below to get the graph descriptor of the given dataset.\n",
    "It will generate 10 random motif based graph descriptors by permuting the vertices randomly 10 times.\n",
    "there will be ten folder one for each descriptors and data will be trained on each dataset individually 10 times and average of the best 10 results will be reported."
   ]
  },
  {
   "cell_type": "code",
   "execution_count": 23,
   "metadata": {
    "scrolled": true
   },
   "outputs": [
    {
     "name": "stdout",
     "output_type": "stream",
     "text": [
      "Extracting dataset  NCI1..\n",
      "Parsing dataset  NCI1..\n",
      "Parse was succesful..\n",
      "Deleting unzipped dataset files..\n",
      "Going back to the original directory..\n"
     ]
    },
    {
     "data": {
      "application/vnd.jupyter.widget-view+json": {
       "model_id": "4cda456dbcf6430ca929ce5f3cc1e7f1",
       "version_major": 2,
       "version_minor": 0
      },
      "text/plain": [
       "HBox(children=(IntProgress(value=0, description='Computing Histogram', max=4110, style=ProgressStyle(descripti…"
      ]
     },
     "metadata": {},
     "output_type": "display_data"
    },
    {
     "name": "stdout",
     "output_type": "stream",
     "text": [
      "\n"
     ]
    },
    {
     "data": {
      "application/vnd.jupyter.widget-view+json": {
       "model_id": "1a7478b788c948b0ab827164596d7574",
       "version_major": 2,
       "version_minor": 0
      },
      "text/plain": [
       "HBox(children=(IntProgress(value=0, description='Computing Histogram Contracted', max=4110, style=ProgressStyl…"
      ]
     },
     "metadata": {},
     "output_type": "display_data"
    },
    {
     "name": "stdout",
     "output_type": "stream",
     "text": [
      "\n"
     ]
    },
    {
     "data": {
      "application/vnd.jupyter.widget-view+json": {
       "model_id": "6706a5c50edc477ab25ab4fd378f1ad9",
       "version_major": 2,
       "version_minor": 0
      },
      "text/plain": [
       "HBox(children=(IntProgress(value=0, description='Computing Stat', max=4110, style=ProgressStyle(description_wi…"
      ]
     },
     "metadata": {},
     "output_type": "display_data"
    },
    {
     "name": "stdout",
     "output_type": "stream",
     "text": [
      "\n"
     ]
    },
    {
     "data": {
      "application/vnd.jupyter.widget-view+json": {
       "model_id": "4235589ccaa245d89892bc3d120cec32",
       "version_major": 2,
       "version_minor": 0
      },
      "text/plain": [
       "HBox(children=(IntProgress(value=0, description='Computing Histogram', max=4110, style=ProgressStyle(descripti…"
      ]
     },
     "metadata": {},
     "output_type": "display_data"
    },
    {
     "name": "stdout",
     "output_type": "stream",
     "text": [
      "\n"
     ]
    },
    {
     "data": {
      "application/vnd.jupyter.widget-view+json": {
       "model_id": "ba212de51e594525bfc41c95212d9236",
       "version_major": 2,
       "version_minor": 0
      },
      "text/plain": [
       "HBox(children=(IntProgress(value=0, description='Computing Histogram Contracted', max=4110, style=ProgressStyl…"
      ]
     },
     "metadata": {},
     "output_type": "display_data"
    },
    {
     "name": "stdout",
     "output_type": "stream",
     "text": [
      "\n"
     ]
    },
    {
     "data": {
      "application/vnd.jupyter.widget-view+json": {
       "model_id": "cbac91d9b9b14a0792087a743a79f8e0",
       "version_major": 2,
       "version_minor": 0
      },
      "text/plain": [
       "HBox(children=(IntProgress(value=0, description='Computing Stat', max=4110, style=ProgressStyle(description_wi…"
      ]
     },
     "metadata": {},
     "output_type": "display_data"
    },
    {
     "name": "stdout",
     "output_type": "stream",
     "text": [
      "\n"
     ]
    },
    {
     "data": {
      "application/vnd.jupyter.widget-view+json": {
       "model_id": "8594e12b70a14e1eb0c26728f464c8e4",
       "version_major": 2,
       "version_minor": 0
      },
      "text/plain": [
       "HBox(children=(IntProgress(value=0, description='Computing Histogram', max=4110, style=ProgressStyle(descripti…"
      ]
     },
     "metadata": {},
     "output_type": "display_data"
    },
    {
     "name": "stdout",
     "output_type": "stream",
     "text": [
      "\n"
     ]
    },
    {
     "data": {
      "application/vnd.jupyter.widget-view+json": {
       "model_id": "6fc7906b3c9b4dc49ab70f639c767f52",
       "version_major": 2,
       "version_minor": 0
      },
      "text/plain": [
       "HBox(children=(IntProgress(value=0, description='Computing Histogram Contracted', max=4110, style=ProgressStyl…"
      ]
     },
     "metadata": {},
     "output_type": "display_data"
    },
    {
     "name": "stdout",
     "output_type": "stream",
     "text": [
      "\n"
     ]
    },
    {
     "data": {
      "application/vnd.jupyter.widget-view+json": {
       "model_id": "3e01c63749794697af0e0ca4e1c4d1b4",
       "version_major": 2,
       "version_minor": 0
      },
      "text/plain": [
       "HBox(children=(IntProgress(value=0, description='Computing Stat', max=4110, style=ProgressStyle(description_wi…"
      ]
     },
     "metadata": {},
     "output_type": "display_data"
    },
    {
     "name": "stdout",
     "output_type": "stream",
     "text": [
      "\n"
     ]
    },
    {
     "data": {
      "application/vnd.jupyter.widget-view+json": {
       "model_id": "fd19fc68d9ce44aaac2562e7dc232a8e",
       "version_major": 2,
       "version_minor": 0
      },
      "text/plain": [
       "HBox(children=(IntProgress(value=0, description='Computing Histogram', max=4110, style=ProgressStyle(descripti…"
      ]
     },
     "metadata": {},
     "output_type": "display_data"
    },
    {
     "name": "stdout",
     "output_type": "stream",
     "text": [
      "\n"
     ]
    },
    {
     "data": {
      "application/vnd.jupyter.widget-view+json": {
       "model_id": "637f29f6b88c49a098e1919f0615b7eb",
       "version_major": 2,
       "version_minor": 0
      },
      "text/plain": [
       "HBox(children=(IntProgress(value=0, description='Computing Histogram Contracted', max=4110, style=ProgressStyl…"
      ]
     },
     "metadata": {},
     "output_type": "display_data"
    },
    {
     "name": "stdout",
     "output_type": "stream",
     "text": [
      "\n"
     ]
    },
    {
     "data": {
      "application/vnd.jupyter.widget-view+json": {
       "model_id": "398782f76ca14de3bacf8199a7e7035e",
       "version_major": 2,
       "version_minor": 0
      },
      "text/plain": [
       "HBox(children=(IntProgress(value=0, description='Computing Stat', max=4110, style=ProgressStyle(description_wi…"
      ]
     },
     "metadata": {},
     "output_type": "display_data"
    },
    {
     "name": "stdout",
     "output_type": "stream",
     "text": [
      "\n"
     ]
    },
    {
     "data": {
      "application/vnd.jupyter.widget-view+json": {
       "model_id": "6df90d62f69b4d2e86a39ce98a592289",
       "version_major": 2,
       "version_minor": 0
      },
      "text/plain": [
       "HBox(children=(IntProgress(value=0, description='Computing Histogram', max=4110, style=ProgressStyle(descripti…"
      ]
     },
     "metadata": {},
     "output_type": "display_data"
    },
    {
     "name": "stdout",
     "output_type": "stream",
     "text": [
      "\n"
     ]
    },
    {
     "data": {
      "application/vnd.jupyter.widget-view+json": {
       "model_id": "fea20d9431ab41b4bf791cf3cd838c3d",
       "version_major": 2,
       "version_minor": 0
      },
      "text/plain": [
       "HBox(children=(IntProgress(value=0, description='Computing Histogram Contracted', max=4110, style=ProgressStyl…"
      ]
     },
     "metadata": {},
     "output_type": "display_data"
    },
    {
     "name": "stdout",
     "output_type": "stream",
     "text": [
      "\n"
     ]
    },
    {
     "data": {
      "application/vnd.jupyter.widget-view+json": {
       "model_id": "56c6ac08370843328e9153c09bf45ee3",
       "version_major": 2,
       "version_minor": 0
      },
      "text/plain": [
       "HBox(children=(IntProgress(value=0, description='Computing Stat', max=4110, style=ProgressStyle(description_wi…"
      ]
     },
     "metadata": {},
     "output_type": "display_data"
    },
    {
     "name": "stdout",
     "output_type": "stream",
     "text": [
      "\n"
     ]
    },
    {
     "data": {
      "application/vnd.jupyter.widget-view+json": {
       "model_id": "ccdbdaaa483d47cbb185b57f25b23fc2",
       "version_major": 2,
       "version_minor": 0
      },
      "text/plain": [
       "HBox(children=(IntProgress(value=0, description='Computing Histogram', max=4110, style=ProgressStyle(descripti…"
      ]
     },
     "metadata": {},
     "output_type": "display_data"
    },
    {
     "name": "stdout",
     "output_type": "stream",
     "text": [
      "\n"
     ]
    },
    {
     "data": {
      "application/vnd.jupyter.widget-view+json": {
       "model_id": "75ffe274b5364b7c8b60f2fb2cbdf0b8",
       "version_major": 2,
       "version_minor": 0
      },
      "text/plain": [
       "HBox(children=(IntProgress(value=0, description='Computing Histogram Contracted', max=4110, style=ProgressStyl…"
      ]
     },
     "metadata": {},
     "output_type": "display_data"
    },
    {
     "name": "stdout",
     "output_type": "stream",
     "text": [
      "\n"
     ]
    },
    {
     "data": {
      "application/vnd.jupyter.widget-view+json": {
       "model_id": "dadc2c1ef11c4aa8b934ca28641042b0",
       "version_major": 2,
       "version_minor": 0
      },
      "text/plain": [
       "HBox(children=(IntProgress(value=0, description='Computing Stat', max=4110, style=ProgressStyle(description_wi…"
      ]
     },
     "metadata": {},
     "output_type": "display_data"
    },
    {
     "name": "stdout",
     "output_type": "stream",
     "text": [
      "\n"
     ]
    },
    {
     "data": {
      "application/vnd.jupyter.widget-view+json": {
       "model_id": "ae1e6385474b49068779dc734b066a28",
       "version_major": 2,
       "version_minor": 0
      },
      "text/plain": [
       "HBox(children=(IntProgress(value=0, description='Computing Histogram', max=4110, style=ProgressStyle(descripti…"
      ]
     },
     "metadata": {},
     "output_type": "display_data"
    },
    {
     "name": "stdout",
     "output_type": "stream",
     "text": [
      "\n"
     ]
    },
    {
     "data": {
      "application/vnd.jupyter.widget-view+json": {
       "model_id": "bd14958825c94c198944216e0de761cc",
       "version_major": 2,
       "version_minor": 0
      },
      "text/plain": [
       "HBox(children=(IntProgress(value=0, description='Computing Histogram Contracted', max=4110, style=ProgressStyl…"
      ]
     },
     "metadata": {},
     "output_type": "display_data"
    },
    {
     "name": "stdout",
     "output_type": "stream",
     "text": [
      "\n"
     ]
    },
    {
     "data": {
      "application/vnd.jupyter.widget-view+json": {
       "model_id": "6ffae12bc16c4a8a8862a7e8c12ae4df",
       "version_major": 2,
       "version_minor": 0
      },
      "text/plain": [
       "HBox(children=(IntProgress(value=0, description='Computing Stat', max=4110, style=ProgressStyle(description_wi…"
      ]
     },
     "metadata": {},
     "output_type": "display_data"
    },
    {
     "name": "stdout",
     "output_type": "stream",
     "text": [
      "\n"
     ]
    },
    {
     "data": {
      "application/vnd.jupyter.widget-view+json": {
       "model_id": "7fc5e5fbae394a7f982dddc321a9cb5c",
       "version_major": 2,
       "version_minor": 0
      },
      "text/plain": [
       "HBox(children=(IntProgress(value=0, description='Computing Histogram', max=4110, style=ProgressStyle(descripti…"
      ]
     },
     "metadata": {},
     "output_type": "display_data"
    },
    {
     "name": "stdout",
     "output_type": "stream",
     "text": [
      "\n"
     ]
    },
    {
     "data": {
      "application/vnd.jupyter.widget-view+json": {
       "model_id": "f79d9dbb8b1647c1ba086c5a468620ae",
       "version_major": 2,
       "version_minor": 0
      },
      "text/plain": [
       "HBox(children=(IntProgress(value=0, description='Computing Histogram Contracted', max=4110, style=ProgressStyl…"
      ]
     },
     "metadata": {},
     "output_type": "display_data"
    },
    {
     "name": "stdout",
     "output_type": "stream",
     "text": [
      "\n"
     ]
    },
    {
     "data": {
      "application/vnd.jupyter.widget-view+json": {
       "model_id": "b5e9562256fb491a8636cf8d967c2203",
       "version_major": 2,
       "version_minor": 0
      },
      "text/plain": [
       "HBox(children=(IntProgress(value=0, description='Computing Stat', max=4110, style=ProgressStyle(description_wi…"
      ]
     },
     "metadata": {},
     "output_type": "display_data"
    },
    {
     "name": "stdout",
     "output_type": "stream",
     "text": [
      "\n"
     ]
    },
    {
     "data": {
      "application/vnd.jupyter.widget-view+json": {
       "model_id": "70acb01d79014a1d9536bbae1af29263",
       "version_major": 2,
       "version_minor": 0
      },
      "text/plain": [
       "HBox(children=(IntProgress(value=0, description='Computing Histogram', max=4110, style=ProgressStyle(descripti…"
      ]
     },
     "metadata": {},
     "output_type": "display_data"
    },
    {
     "name": "stdout",
     "output_type": "stream",
     "text": [
      "\n"
     ]
    },
    {
     "data": {
      "application/vnd.jupyter.widget-view+json": {
       "model_id": "26ede7495c8b448d840fe88d4e6f5a0d",
       "version_major": 2,
       "version_minor": 0
      },
      "text/plain": [
       "HBox(children=(IntProgress(value=0, description='Computing Histogram Contracted', max=4110, style=ProgressStyl…"
      ]
     },
     "metadata": {},
     "output_type": "display_data"
    },
    {
     "name": "stdout",
     "output_type": "stream",
     "text": [
      "\n"
     ]
    },
    {
     "data": {
      "application/vnd.jupyter.widget-view+json": {
       "model_id": "7d20916e610c40018dbab2f0b4b633ff",
       "version_major": 2,
       "version_minor": 0
      },
      "text/plain": [
       "HBox(children=(IntProgress(value=0, description='Computing Stat', max=4110, style=ProgressStyle(description_wi…"
      ]
     },
     "metadata": {},
     "output_type": "display_data"
    },
    {
     "name": "stdout",
     "output_type": "stream",
     "text": [
      "\n"
     ]
    },
    {
     "data": {
      "application/vnd.jupyter.widget-view+json": {
       "model_id": "01f6f9f57c1349e3874472c96ae2d3ff",
       "version_major": 2,
       "version_minor": 0
      },
      "text/plain": [
       "HBox(children=(IntProgress(value=0, description='Computing Histogram', max=4110, style=ProgressStyle(descripti…"
      ]
     },
     "metadata": {},
     "output_type": "display_data"
    },
    {
     "name": "stdout",
     "output_type": "stream",
     "text": [
      "\n"
     ]
    },
    {
     "data": {
      "application/vnd.jupyter.widget-view+json": {
       "model_id": "e6a9bdb6033c487b8170c4a1c14e21f1",
       "version_major": 2,
       "version_minor": 0
      },
      "text/plain": [
       "HBox(children=(IntProgress(value=0, description='Computing Histogram Contracted', max=4110, style=ProgressStyl…"
      ]
     },
     "metadata": {},
     "output_type": "display_data"
    },
    {
     "name": "stdout",
     "output_type": "stream",
     "text": [
      "\n"
     ]
    },
    {
     "data": {
      "application/vnd.jupyter.widget-view+json": {
       "model_id": "9375d3ecde4342558e2f87d926cc2204",
       "version_major": 2,
       "version_minor": 0
      },
      "text/plain": [
       "HBox(children=(IntProgress(value=0, description='Computing Stat', max=4110, style=ProgressStyle(description_wi…"
      ]
     },
     "metadata": {},
     "output_type": "display_data"
    },
    {
     "name": "stdout",
     "output_type": "stream",
     "text": [
      "\n"
     ]
    }
   ],
   "source": [
    "from joblib import Parallel, delayed \n",
    "\n",
    "N_JOBS = 6\n",
    "connected_graphs_components    = return_connected_components(n=6, imp_feature=True)\n",
    "dir_name                       = \"HOSD_M_basic_l2_\"\n",
    "\n",
    "#add graph dataset names here in the list \n",
    "dataset_list = ['NCI1']\n",
    "for file_name in dataset_list:\n",
    "    t0 = time.time()\n",
    "    graph_list, data_y, data_nodes  = return_dataset(file_name)\n",
    "\n",
    "    for k in range(10):\n",
    "    #data_cl                        = return_cluster_stats(graph_list, connected_graphs_components)\n",
    "    #basic_stat                     = return_basic_stat(graph_list)\n",
    "        graph_list                      =[i.permute_vertices(random.sample(i.vs.indices, len(i.vs.indices))) for i in graph_list]\n",
    "        for g_ in graph_list:\n",
    "            g_.vs['idx'] = [str(i) for i in g_.vs.indices]\n",
    "        basic_stat                      =return_basic_stat(graph_list)\n",
    "        dict_hist1, cn_g1               =zip(*Parallel(n_jobs=N_JOBS )(delayed(return_hist_and_contracted_graphs)(g, connected_graphs_components) for g in tqdm_notebook(graph_list, desc='Computing Histogram')))\n",
    "        dict_hist2, cn_g2               =zip(*Parallel(n_jobs=N_JOBS )(delayed(return_hist_and_contracted_graphs_of_graphs)(graph, connected_graphs_components, save=False) for graph in tqdm_notebook(cn_g1, desc='Computing Histogram Contracted')))\n",
    "        \n",
    "        dict_basic_stat_cn1             =Parallel(n_jobs=N_JOBS )(delayed(return_basic_stat_contracted)(g) for g in tqdm_notebook(cn_g1, desc='Computing Stat'))\n",
    "        dict_basic_stat_cn1             =pd.DataFrame(dict_basic_stat_cn1).fillna('0')\n",
    "        dict_basic_stat_cn1             =dict_basic_stat_cn1.loc[:, (dict_basic_stat_cn1 != 0).any(axis=0)]\n",
    "\n",
    "        data_basic_stat                 =pd.DataFrame(basic_stat).transpose()\n",
    "\n",
    "        data_hist                      = pd.DataFrame({i:j for i,j in enumerate(dict_hist1)}).transpose()\n",
    "        data_hist_1                    = pd.DataFrame({i:j for i,j in enumerate(dict_hist2)}).transpose()\n",
    "\n",
    "\n",
    "        #saving to txt file using numpy helper function \n",
    "        #verbosity  1\n",
    "        os.makedirs(dir_name+str(k), exist_ok=True)\n",
    "        data_hist_1_V1  = data_hist_1[[i for i in data_hist_1.columns if not 'HOGN' in i and '-' in i ]]\n",
    "        data_X          = pd.concat([data_hist_1_V1, data_hist,data_basic_stat, dict_basic_stat_cn1], axis=1).fillna(0,inplace=False).values\n",
    "        data_X          = data_X[:,~np.all(data_X==0,axis=0)]\n",
    "        np.savetxt(dir_name+str(k)+'/'+file_name+'_V1_.txt', data_X.astype(np.float64))\n",
    "        \n",
    "        #VERBOSITY 2\n",
    "\n",
    "        data_hist_1_V2  = data_hist_1[[i for i in data_hist_1.columns if 'HOGN' in i]]\n",
    "        data_X          = pd.concat([data_hist_1_V2, data_hist, data_hist_1_V1 - data_hist_1_V2, data_basic_stat, dict_basic_stat_cn1 ], axis=1).fillna(0,inplace=False).values\n",
    "        data_X          = data_X[:,~np.all(data_X==0,axis=0)]\n",
    "        np.savetxt(dir_name+str(k)+'/'+file_name+'_V2_.txt', data_X.astype(np.float64))\n",
    "\n",
    "         #VERBOSITY 3\n",
    "        data_hist_1_V3  = data_hist_1[[i for i in data_hist_1.columns if '-' not in i ]]\n",
    "        data_X          = pd.concat([data_hist_1_V3, data_hist, data_basic_stat, dict_basic_stat_cn1, ], axis=1).fillna(0,inplace=False).values\n",
    "        data_X          = data_X[:,~np.all(data_X==0,axis=0)]\n",
    "        np.savetxt(dir_name+str(k)+'/'+file_name+'_V3_.txt', data_X.astype(np.float64))\n",
    "        \n",
    "        #SAVE LABELS\n",
    "        np.savetxt(dir_name+str(k)+'/'+file_name+'_y.txt', data_y.astype(np.float64))"
   ]
  },
  {
   "cell_type": "code",
   "execution_count": 28,
   "metadata": {},
   "outputs": [
    {
     "name": "stdout",
     "output_type": "stream",
     "text": [
      "Fitting 10 folds for each of 12 candidates, totalling 120 fits\n"
     ]
    },
    {
     "name": "stderr",
     "output_type": "stream",
     "text": [
      "[Parallel(n_jobs=6)]: Using backend LokyBackend with 6 concurrent workers.\n",
      "[Parallel(n_jobs=6)]: Done  26 tasks      | elapsed:   19.3s\n",
      "[Parallel(n_jobs=6)]: Done 120 out of 120 | elapsed:   57.3s finished\n"
     ]
    },
    {
     "name": "stdout",
     "output_type": "stream",
     "text": [
      "Fitting 10 folds for each of 12 candidates, totalling 120 fits\n"
     ]
    },
    {
     "name": "stderr",
     "output_type": "stream",
     "text": [
      "[Parallel(n_jobs=6)]: Using backend LokyBackend with 6 concurrent workers.\n",
      "[Parallel(n_jobs=6)]: Done  26 tasks      | elapsed:    8.6s\n",
      "[Parallel(n_jobs=6)]: Done 120 out of 120 | elapsed:   45.8s finished\n"
     ]
    },
    {
     "name": "stdout",
     "output_type": "stream",
     "text": [
      "Fitting 10 folds for each of 12 candidates, totalling 120 fits\n"
     ]
    },
    {
     "name": "stderr",
     "output_type": "stream",
     "text": [
      "[Parallel(n_jobs=6)]: Using backend LokyBackend with 6 concurrent workers.\n",
      "[Parallel(n_jobs=6)]: Done  26 tasks      | elapsed:    8.5s\n",
      "[Parallel(n_jobs=6)]: Done 120 out of 120 | elapsed:   46.6s finished\n"
     ]
    },
    {
     "name": "stdout",
     "output_type": "stream",
     "text": [
      "Fitting 10 folds for each of 12 candidates, totalling 120 fits\n"
     ]
    },
    {
     "name": "stderr",
     "output_type": "stream",
     "text": [
      "[Parallel(n_jobs=6)]: Using backend LokyBackend with 6 concurrent workers.\n",
      "[Parallel(n_jobs=6)]: Done  26 tasks      | elapsed:    8.2s\n",
      "[Parallel(n_jobs=6)]: Done 120 out of 120 | elapsed:   43.9s finished\n"
     ]
    },
    {
     "name": "stdout",
     "output_type": "stream",
     "text": [
      "Fitting 10 folds for each of 12 candidates, totalling 120 fits\n"
     ]
    },
    {
     "name": "stderr",
     "output_type": "stream",
     "text": [
      "[Parallel(n_jobs=6)]: Using backend LokyBackend with 6 concurrent workers.\n",
      "[Parallel(n_jobs=6)]: Done  26 tasks      | elapsed:    8.2s\n",
      "[Parallel(n_jobs=6)]: Done 120 out of 120 | elapsed:   44.9s finished\n"
     ]
    },
    {
     "name": "stdout",
     "output_type": "stream",
     "text": [
      "Fitting 10 folds for each of 12 candidates, totalling 120 fits\n"
     ]
    },
    {
     "name": "stderr",
     "output_type": "stream",
     "text": [
      "[Parallel(n_jobs=6)]: Using backend LokyBackend with 6 concurrent workers.\n",
      "[Parallel(n_jobs=6)]: Done  26 tasks      | elapsed:    8.0s\n",
      "[Parallel(n_jobs=6)]: Done 120 out of 120 | elapsed:   44.0s finished\n"
     ]
    },
    {
     "name": "stdout",
     "output_type": "stream",
     "text": [
      "Fitting 10 folds for each of 12 candidates, totalling 120 fits\n"
     ]
    },
    {
     "name": "stderr",
     "output_type": "stream",
     "text": [
      "[Parallel(n_jobs=6)]: Using backend LokyBackend with 6 concurrent workers.\n",
      "[Parallel(n_jobs=6)]: Done  26 tasks      | elapsed:    8.9s\n",
      "[Parallel(n_jobs=6)]: Done 120 out of 120 | elapsed:   45.4s finished\n"
     ]
    },
    {
     "name": "stdout",
     "output_type": "stream",
     "text": [
      "Fitting 10 folds for each of 12 candidates, totalling 120 fits\n"
     ]
    },
    {
     "name": "stderr",
     "output_type": "stream",
     "text": [
      "[Parallel(n_jobs=6)]: Using backend LokyBackend with 6 concurrent workers.\n",
      "[Parallel(n_jobs=6)]: Done  26 tasks      | elapsed:    8.2s\n",
      "[Parallel(n_jobs=6)]: Done 120 out of 120 | elapsed:   43.5s finished\n"
     ]
    },
    {
     "name": "stdout",
     "output_type": "stream",
     "text": [
      "Fitting 10 folds for each of 12 candidates, totalling 120 fits\n"
     ]
    },
    {
     "name": "stderr",
     "output_type": "stream",
     "text": [
      "[Parallel(n_jobs=6)]: Using backend LokyBackend with 6 concurrent workers.\n",
      "[Parallel(n_jobs=6)]: Done  26 tasks      | elapsed:    8.5s\n",
      "[Parallel(n_jobs=6)]: Done 120 out of 120 | elapsed:   44.8s finished\n"
     ]
    },
    {
     "name": "stdout",
     "output_type": "stream",
     "text": [
      "Fitting 10 folds for each of 12 candidates, totalling 120 fits\n"
     ]
    },
    {
     "name": "stderr",
     "output_type": "stream",
     "text": [
      "[Parallel(n_jobs=6)]: Using backend LokyBackend with 6 concurrent workers.\n",
      "[Parallel(n_jobs=6)]: Done  26 tasks      | elapsed:    8.2s\n",
      "[Parallel(n_jobs=6)]: Done 120 out of 120 | elapsed:   43.7s finished\n"
     ]
    },
    {
     "name": "stdout",
     "output_type": "stream",
     "text": [
      "Fitting 10 folds for each of 12 candidates, totalling 120 fits\n"
     ]
    },
    {
     "name": "stderr",
     "output_type": "stream",
     "text": [
      "[Parallel(n_jobs=6)]: Using backend LokyBackend with 6 concurrent workers.\n",
      "[Parallel(n_jobs=6)]: Done  26 tasks      | elapsed:    7.9s\n",
      "[Parallel(n_jobs=6)]: Done 120 out of 120 | elapsed:   43.2s finished\n"
     ]
    },
    {
     "name": "stdout",
     "output_type": "stream",
     "text": [
      "Fitting 10 folds for each of 12 candidates, totalling 120 fits\n"
     ]
    },
    {
     "name": "stderr",
     "output_type": "stream",
     "text": [
      "[Parallel(n_jobs=6)]: Using backend LokyBackend with 6 concurrent workers.\n",
      "[Parallel(n_jobs=6)]: Done  26 tasks      | elapsed:    7.9s\n",
      "[Parallel(n_jobs=6)]: Done 120 out of 120 | elapsed:   43.0s finished\n"
     ]
    },
    {
     "name": "stdout",
     "output_type": "stream",
     "text": [
      "Fitting 10 folds for each of 12 candidates, totalling 120 fits\n"
     ]
    },
    {
     "name": "stderr",
     "output_type": "stream",
     "text": [
      "[Parallel(n_jobs=6)]: Using backend LokyBackend with 6 concurrent workers.\n",
      "[Parallel(n_jobs=6)]: Done  26 tasks      | elapsed:    7.9s\n",
      "[Parallel(n_jobs=6)]: Done 120 out of 120 | elapsed:   43.4s finished\n"
     ]
    },
    {
     "name": "stdout",
     "output_type": "stream",
     "text": [
      "Fitting 10 folds for each of 12 candidates, totalling 120 fits\n"
     ]
    },
    {
     "name": "stderr",
     "output_type": "stream",
     "text": [
      "[Parallel(n_jobs=6)]: Using backend LokyBackend with 6 concurrent workers.\n",
      "[Parallel(n_jobs=6)]: Done  26 tasks      | elapsed:    8.1s\n",
      "[Parallel(n_jobs=6)]: Done 120 out of 120 | elapsed:   43.5s finished\n"
     ]
    },
    {
     "name": "stdout",
     "output_type": "stream",
     "text": [
      "Fitting 10 folds for each of 12 candidates, totalling 120 fits\n"
     ]
    },
    {
     "name": "stderr",
     "output_type": "stream",
     "text": [
      "[Parallel(n_jobs=6)]: Using backend LokyBackend with 6 concurrent workers.\n",
      "[Parallel(n_jobs=6)]: Done  26 tasks      | elapsed:    7.8s\n",
      "[Parallel(n_jobs=6)]: Done 120 out of 120 | elapsed:   43.8s finished\n"
     ]
    },
    {
     "name": "stdout",
     "output_type": "stream",
     "text": [
      "Fitting 10 folds for each of 12 candidates, totalling 120 fits\n"
     ]
    },
    {
     "name": "stderr",
     "output_type": "stream",
     "text": [
      "[Parallel(n_jobs=6)]: Using backend LokyBackend with 6 concurrent workers.\n",
      "[Parallel(n_jobs=6)]: Done  26 tasks      | elapsed:    7.9s\n",
      "[Parallel(n_jobs=6)]: Done 120 out of 120 | elapsed:   43.2s finished\n"
     ]
    },
    {
     "name": "stdout",
     "output_type": "stream",
     "text": [
      "Fitting 10 folds for each of 12 candidates, totalling 120 fits\n"
     ]
    },
    {
     "name": "stderr",
     "output_type": "stream",
     "text": [
      "[Parallel(n_jobs=6)]: Using backend LokyBackend with 6 concurrent workers.\n",
      "[Parallel(n_jobs=6)]: Done  26 tasks      | elapsed:    8.0s\n",
      "[Parallel(n_jobs=6)]: Done 120 out of 120 | elapsed:   43.3s finished\n"
     ]
    },
    {
     "name": "stdout",
     "output_type": "stream",
     "text": [
      "Fitting 10 folds for each of 12 candidates, totalling 120 fits\n"
     ]
    },
    {
     "name": "stderr",
     "output_type": "stream",
     "text": [
      "[Parallel(n_jobs=6)]: Using backend LokyBackend with 6 concurrent workers.\n",
      "[Parallel(n_jobs=6)]: Done  26 tasks      | elapsed:    7.9s\n",
      "[Parallel(n_jobs=6)]: Done 120 out of 120 | elapsed:   42.9s finished\n"
     ]
    },
    {
     "name": "stdout",
     "output_type": "stream",
     "text": [
      "Fitting 10 folds for each of 12 candidates, totalling 120 fits\n"
     ]
    },
    {
     "name": "stderr",
     "output_type": "stream",
     "text": [
      "[Parallel(n_jobs=6)]: Using backend LokyBackend with 6 concurrent workers.\n",
      "[Parallel(n_jobs=6)]: Done  26 tasks      | elapsed:    7.9s\n",
      "[Parallel(n_jobs=6)]: Done 120 out of 120 | elapsed:   43.5s finished\n"
     ]
    },
    {
     "name": "stdout",
     "output_type": "stream",
     "text": [
      "Fitting 10 folds for each of 12 candidates, totalling 120 fits\n"
     ]
    },
    {
     "name": "stderr",
     "output_type": "stream",
     "text": [
      "[Parallel(n_jobs=6)]: Using backend LokyBackend with 6 concurrent workers.\n",
      "[Parallel(n_jobs=6)]: Done  26 tasks      | elapsed:    7.8s\n",
      "[Parallel(n_jobs=6)]: Done 120 out of 120 | elapsed:   43.5s finished\n"
     ]
    },
    {
     "name": "stdout",
     "output_type": "stream",
     "text": [
      "Result computed for ('/results/NCI1_V1_.txt', 'results are:', 0.7204135169875545)\n",
      "Fitting 10 folds for each of 12 candidates, totalling 120 fits\n"
     ]
    },
    {
     "name": "stderr",
     "output_type": "stream",
     "text": [
      "[Parallel(n_jobs=6)]: Using backend LokyBackend with 6 concurrent workers.\n",
      "[Parallel(n_jobs=6)]: Done  26 tasks      | elapsed:    7.6s\n",
      "[Parallel(n_jobs=6)]: Done 120 out of 120 | elapsed:   41.5s finished\n"
     ]
    },
    {
     "name": "stdout",
     "output_type": "stream",
     "text": [
      "Fitting 10 folds for each of 12 candidates, totalling 120 fits\n"
     ]
    },
    {
     "name": "stderr",
     "output_type": "stream",
     "text": [
      "[Parallel(n_jobs=6)]: Using backend LokyBackend with 6 concurrent workers.\n",
      "[Parallel(n_jobs=6)]: Done  26 tasks      | elapsed:    7.7s\n",
      "[Parallel(n_jobs=6)]: Done 120 out of 120 | elapsed:   41.8s finished\n"
     ]
    },
    {
     "name": "stdout",
     "output_type": "stream",
     "text": [
      "Fitting 10 folds for each of 12 candidates, totalling 120 fits\n"
     ]
    },
    {
     "name": "stderr",
     "output_type": "stream",
     "text": [
      "[Parallel(n_jobs=6)]: Using backend LokyBackend with 6 concurrent workers.\n",
      "[Parallel(n_jobs=6)]: Done  26 tasks      | elapsed:    7.6s\n",
      "[Parallel(n_jobs=6)]: Done 120 out of 120 | elapsed:   41.6s finished\n"
     ]
    },
    {
     "name": "stdout",
     "output_type": "stream",
     "text": [
      "Fitting 10 folds for each of 12 candidates, totalling 120 fits\n"
     ]
    },
    {
     "name": "stderr",
     "output_type": "stream",
     "text": [
      "[Parallel(n_jobs=6)]: Using backend LokyBackend with 6 concurrent workers.\n",
      "[Parallel(n_jobs=6)]: Done  26 tasks      | elapsed:    7.6s\n",
      "[Parallel(n_jobs=6)]: Done 120 out of 120 | elapsed:   41.7s finished\n"
     ]
    },
    {
     "name": "stdout",
     "output_type": "stream",
     "text": [
      "Fitting 10 folds for each of 12 candidates, totalling 120 fits\n"
     ]
    },
    {
     "name": "stderr",
     "output_type": "stream",
     "text": [
      "[Parallel(n_jobs=6)]: Using backend LokyBackend with 6 concurrent workers.\n",
      "[Parallel(n_jobs=6)]: Done  26 tasks      | elapsed:    7.7s\n",
      "[Parallel(n_jobs=6)]: Done 120 out of 120 | elapsed:   41.9s finished\n"
     ]
    },
    {
     "name": "stdout",
     "output_type": "stream",
     "text": [
      "Fitting 10 folds for each of 12 candidates, totalling 120 fits\n"
     ]
    },
    {
     "name": "stderr",
     "output_type": "stream",
     "text": [
      "[Parallel(n_jobs=6)]: Using backend LokyBackend with 6 concurrent workers.\n",
      "[Parallel(n_jobs=6)]: Done  26 tasks      | elapsed:    7.7s\n",
      "[Parallel(n_jobs=6)]: Done 120 out of 120 | elapsed:   41.4s finished\n"
     ]
    },
    {
     "name": "stdout",
     "output_type": "stream",
     "text": [
      "Fitting 10 folds for each of 12 candidates, totalling 120 fits\n"
     ]
    },
    {
     "name": "stderr",
     "output_type": "stream",
     "text": [
      "[Parallel(n_jobs=6)]: Using backend LokyBackend with 6 concurrent workers.\n",
      "[Parallel(n_jobs=6)]: Done  26 tasks      | elapsed:    7.5s\n",
      "[Parallel(n_jobs=6)]: Done 120 out of 120 | elapsed:   41.7s finished\n"
     ]
    },
    {
     "name": "stdout",
     "output_type": "stream",
     "text": [
      "Fitting 10 folds for each of 12 candidates, totalling 120 fits\n"
     ]
    },
    {
     "name": "stderr",
     "output_type": "stream",
     "text": [
      "[Parallel(n_jobs=6)]: Using backend LokyBackend with 6 concurrent workers.\n",
      "[Parallel(n_jobs=6)]: Done  26 tasks      | elapsed:    7.5s\n",
      "[Parallel(n_jobs=6)]: Done 120 out of 120 | elapsed:   41.5s finished\n"
     ]
    },
    {
     "name": "stdout",
     "output_type": "stream",
     "text": [
      "Fitting 10 folds for each of 12 candidates, totalling 120 fits\n"
     ]
    },
    {
     "name": "stderr",
     "output_type": "stream",
     "text": [
      "[Parallel(n_jobs=6)]: Using backend LokyBackend with 6 concurrent workers.\n",
      "[Parallel(n_jobs=6)]: Done  26 tasks      | elapsed:    7.6s\n",
      "[Parallel(n_jobs=6)]: Done 120 out of 120 | elapsed:   41.7s finished\n"
     ]
    },
    {
     "name": "stdout",
     "output_type": "stream",
     "text": [
      "Fitting 10 folds for each of 12 candidates, totalling 120 fits\n"
     ]
    },
    {
     "name": "stderr",
     "output_type": "stream",
     "text": [
      "[Parallel(n_jobs=6)]: Using backend LokyBackend with 6 concurrent workers.\n",
      "[Parallel(n_jobs=6)]: Done  26 tasks      | elapsed:    7.6s\n",
      "[Parallel(n_jobs=6)]: Done 120 out of 120 | elapsed:   41.5s finished\n"
     ]
    },
    {
     "name": "stdout",
     "output_type": "stream",
     "text": [
      "Fitting 10 folds for each of 12 candidates, totalling 120 fits\n"
     ]
    },
    {
     "name": "stderr",
     "output_type": "stream",
     "text": [
      "[Parallel(n_jobs=6)]: Using backend LokyBackend with 6 concurrent workers.\n",
      "[Parallel(n_jobs=6)]: Done  26 tasks      | elapsed:    7.7s\n",
      "[Parallel(n_jobs=6)]: Done 120 out of 120 | elapsed:   41.2s finished\n"
     ]
    },
    {
     "name": "stdout",
     "output_type": "stream",
     "text": [
      "Fitting 10 folds for each of 12 candidates, totalling 120 fits\n"
     ]
    },
    {
     "name": "stderr",
     "output_type": "stream",
     "text": [
      "[Parallel(n_jobs=6)]: Using backend LokyBackend with 6 concurrent workers.\n",
      "[Parallel(n_jobs=6)]: Done  26 tasks      | elapsed:    7.5s\n",
      "[Parallel(n_jobs=6)]: Done 120 out of 120 | elapsed:   40.9s finished\n"
     ]
    },
    {
     "name": "stdout",
     "output_type": "stream",
     "text": [
      "Fitting 10 folds for each of 12 candidates, totalling 120 fits\n"
     ]
    },
    {
     "name": "stderr",
     "output_type": "stream",
     "text": [
      "[Parallel(n_jobs=6)]: Using backend LokyBackend with 6 concurrent workers.\n",
      "[Parallel(n_jobs=6)]: Done  26 tasks      | elapsed:    7.5s\n",
      "[Parallel(n_jobs=6)]: Done 120 out of 120 | elapsed:   41.0s finished\n"
     ]
    },
    {
     "name": "stdout",
     "output_type": "stream",
     "text": [
      "Fitting 10 folds for each of 12 candidates, totalling 120 fits\n"
     ]
    },
    {
     "name": "stderr",
     "output_type": "stream",
     "text": [
      "[Parallel(n_jobs=6)]: Using backend LokyBackend with 6 concurrent workers.\n",
      "[Parallel(n_jobs=6)]: Done  26 tasks      | elapsed:    7.5s\n",
      "[Parallel(n_jobs=6)]: Done 120 out of 120 | elapsed:   40.7s finished\n"
     ]
    },
    {
     "name": "stdout",
     "output_type": "stream",
     "text": [
      "Fitting 10 folds for each of 12 candidates, totalling 120 fits\n"
     ]
    },
    {
     "name": "stderr",
     "output_type": "stream",
     "text": [
      "[Parallel(n_jobs=6)]: Using backend LokyBackend with 6 concurrent workers.\n",
      "[Parallel(n_jobs=6)]: Done  26 tasks      | elapsed:    7.6s\n",
      "[Parallel(n_jobs=6)]: Done 120 out of 120 | elapsed:   41.5s finished\n"
     ]
    },
    {
     "name": "stdout",
     "output_type": "stream",
     "text": [
      "Fitting 10 folds for each of 12 candidates, totalling 120 fits\n"
     ]
    },
    {
     "name": "stderr",
     "output_type": "stream",
     "text": [
      "[Parallel(n_jobs=6)]: Using backend LokyBackend with 6 concurrent workers.\n",
      "[Parallel(n_jobs=6)]: Done  26 tasks      | elapsed:    8.0s\n",
      "[Parallel(n_jobs=6)]: Done 120 out of 120 | elapsed:   42.5s finished\n"
     ]
    },
    {
     "name": "stdout",
     "output_type": "stream",
     "text": [
      "Fitting 10 folds for each of 12 candidates, totalling 120 fits\n"
     ]
    },
    {
     "name": "stderr",
     "output_type": "stream",
     "text": [
      "[Parallel(n_jobs=6)]: Using backend LokyBackend with 6 concurrent workers.\n",
      "[Parallel(n_jobs=6)]: Done  26 tasks      | elapsed:    7.6s\n",
      "[Parallel(n_jobs=6)]: Done 120 out of 120 | elapsed:   41.4s finished\n"
     ]
    },
    {
     "name": "stdout",
     "output_type": "stream",
     "text": [
      "Fitting 10 folds for each of 12 candidates, totalling 120 fits\n"
     ]
    },
    {
     "name": "stderr",
     "output_type": "stream",
     "text": [
      "[Parallel(n_jobs=6)]: Using backend LokyBackend with 6 concurrent workers.\n",
      "[Parallel(n_jobs=6)]: Done  26 tasks      | elapsed:    7.7s\n",
      "[Parallel(n_jobs=6)]: Done 120 out of 120 | elapsed:   41.6s finished\n"
     ]
    },
    {
     "name": "stdout",
     "output_type": "stream",
     "text": [
      "Fitting 10 folds for each of 12 candidates, totalling 120 fits\n"
     ]
    },
    {
     "name": "stderr",
     "output_type": "stream",
     "text": [
      "[Parallel(n_jobs=6)]: Using backend LokyBackend with 6 concurrent workers.\n",
      "[Parallel(n_jobs=6)]: Done  26 tasks      | elapsed:    7.7s\n",
      "[Parallel(n_jobs=6)]: Done 120 out of 120 | elapsed:   41.5s finished\n"
     ]
    },
    {
     "name": "stdout",
     "output_type": "stream",
     "text": [
      "Fitting 10 folds for each of 12 candidates, totalling 120 fits\n"
     ]
    },
    {
     "name": "stderr",
     "output_type": "stream",
     "text": [
      "[Parallel(n_jobs=6)]: Using backend LokyBackend with 6 concurrent workers.\n",
      "[Parallel(n_jobs=6)]: Done  26 tasks      | elapsed:    7.7s\n",
      "[Parallel(n_jobs=6)]: Done 120 out of 120 | elapsed:   41.9s finished\n"
     ]
    },
    {
     "name": "stdout",
     "output_type": "stream",
     "text": [
      "Result computed for ('/results/NCI1_V2_.txt', 'results are:', 0.7234336393852918)\n",
      "Fitting 10 folds for each of 12 candidates, totalling 120 fits\n"
     ]
    },
    {
     "name": "stderr",
     "output_type": "stream",
     "text": [
      "[Parallel(n_jobs=6)]: Using backend LokyBackend with 6 concurrent workers.\n",
      "[Parallel(n_jobs=6)]: Done  26 tasks      | elapsed:    6.2s\n",
      "[Parallel(n_jobs=6)]: Done 120 out of 120 | elapsed:   33.0s finished\n"
     ]
    },
    {
     "name": "stdout",
     "output_type": "stream",
     "text": [
      "Fitting 10 folds for each of 12 candidates, totalling 120 fits\n"
     ]
    },
    {
     "name": "stderr",
     "output_type": "stream",
     "text": [
      "[Parallel(n_jobs=6)]: Using backend LokyBackend with 6 concurrent workers.\n",
      "[Parallel(n_jobs=6)]: Done  26 tasks      | elapsed:    6.0s\n",
      "[Parallel(n_jobs=6)]: Done 120 out of 120 | elapsed:   32.7s finished\n"
     ]
    },
    {
     "name": "stdout",
     "output_type": "stream",
     "text": [
      "Fitting 10 folds for each of 12 candidates, totalling 120 fits\n"
     ]
    },
    {
     "name": "stderr",
     "output_type": "stream",
     "text": [
      "[Parallel(n_jobs=6)]: Using backend LokyBackend with 6 concurrent workers.\n",
      "[Parallel(n_jobs=6)]: Done  26 tasks      | elapsed:    6.1s\n",
      "[Parallel(n_jobs=6)]: Done 120 out of 120 | elapsed:   33.0s finished\n"
     ]
    },
    {
     "name": "stdout",
     "output_type": "stream",
     "text": [
      "Fitting 10 folds for each of 12 candidates, totalling 120 fits\n"
     ]
    },
    {
     "name": "stderr",
     "output_type": "stream",
     "text": [
      "[Parallel(n_jobs=6)]: Using backend LokyBackend with 6 concurrent workers.\n",
      "[Parallel(n_jobs=6)]: Done  26 tasks      | elapsed:    6.1s\n",
      "[Parallel(n_jobs=6)]: Done 120 out of 120 | elapsed:   33.2s finished\n"
     ]
    },
    {
     "name": "stdout",
     "output_type": "stream",
     "text": [
      "Fitting 10 folds for each of 12 candidates, totalling 120 fits\n"
     ]
    },
    {
     "name": "stderr",
     "output_type": "stream",
     "text": [
      "[Parallel(n_jobs=6)]: Using backend LokyBackend with 6 concurrent workers.\n",
      "[Parallel(n_jobs=6)]: Done  26 tasks      | elapsed:    6.1s\n",
      "[Parallel(n_jobs=6)]: Done 120 out of 120 | elapsed:   33.1s finished\n"
     ]
    },
    {
     "name": "stdout",
     "output_type": "stream",
     "text": [
      "Fitting 10 folds for each of 12 candidates, totalling 120 fits\n"
     ]
    },
    {
     "name": "stderr",
     "output_type": "stream",
     "text": [
      "[Parallel(n_jobs=6)]: Using backend LokyBackend with 6 concurrent workers.\n",
      "[Parallel(n_jobs=6)]: Done  26 tasks      | elapsed:    6.2s\n",
      "[Parallel(n_jobs=6)]: Done 120 out of 120 | elapsed:   32.9s finished\n"
     ]
    },
    {
     "name": "stdout",
     "output_type": "stream",
     "text": [
      "Fitting 10 folds for each of 12 candidates, totalling 120 fits\n"
     ]
    },
    {
     "name": "stderr",
     "output_type": "stream",
     "text": [
      "[Parallel(n_jobs=6)]: Using backend LokyBackend with 6 concurrent workers.\n",
      "[Parallel(n_jobs=6)]: Done  26 tasks      | elapsed:    6.0s\n",
      "[Parallel(n_jobs=6)]: Done 120 out of 120 | elapsed:   32.6s finished\n"
     ]
    },
    {
     "name": "stdout",
     "output_type": "stream",
     "text": [
      "Fitting 10 folds for each of 12 candidates, totalling 120 fits\n"
     ]
    },
    {
     "name": "stderr",
     "output_type": "stream",
     "text": [
      "[Parallel(n_jobs=6)]: Using backend LokyBackend with 6 concurrent workers.\n",
      "[Parallel(n_jobs=6)]: Done  26 tasks      | elapsed:    6.1s\n",
      "[Parallel(n_jobs=6)]: Done 120 out of 120 | elapsed:   32.6s finished\n"
     ]
    },
    {
     "name": "stdout",
     "output_type": "stream",
     "text": [
      "Fitting 10 folds for each of 12 candidates, totalling 120 fits\n"
     ]
    },
    {
     "name": "stderr",
     "output_type": "stream",
     "text": [
      "[Parallel(n_jobs=6)]: Using backend LokyBackend with 6 concurrent workers.\n",
      "[Parallel(n_jobs=6)]: Done  26 tasks      | elapsed:    6.0s\n",
      "[Parallel(n_jobs=6)]: Done 120 out of 120 | elapsed:   32.8s finished\n"
     ]
    },
    {
     "name": "stdout",
     "output_type": "stream",
     "text": [
      "Fitting 10 folds for each of 12 candidates, totalling 120 fits\n"
     ]
    },
    {
     "name": "stderr",
     "output_type": "stream",
     "text": [
      "[Parallel(n_jobs=6)]: Using backend LokyBackend with 6 concurrent workers.\n",
      "[Parallel(n_jobs=6)]: Done  26 tasks      | elapsed:    6.0s\n",
      "[Parallel(n_jobs=6)]: Done 120 out of 120 | elapsed:   33.0s finished\n"
     ]
    },
    {
     "name": "stdout",
     "output_type": "stream",
     "text": [
      "Fitting 10 folds for each of 12 candidates, totalling 120 fits\n"
     ]
    },
    {
     "name": "stderr",
     "output_type": "stream",
     "text": [
      "[Parallel(n_jobs=6)]: Using backend LokyBackend with 6 concurrent workers.\n",
      "[Parallel(n_jobs=6)]: Done  26 tasks      | elapsed:    6.2s\n",
      "[Parallel(n_jobs=6)]: Done 120 out of 120 | elapsed:   33.1s finished\n"
     ]
    },
    {
     "name": "stdout",
     "output_type": "stream",
     "text": [
      "Fitting 10 folds for each of 12 candidates, totalling 120 fits\n"
     ]
    },
    {
     "name": "stderr",
     "output_type": "stream",
     "text": [
      "[Parallel(n_jobs=6)]: Using backend LokyBackend with 6 concurrent workers.\n",
      "[Parallel(n_jobs=6)]: Done  26 tasks      | elapsed:    6.2s\n",
      "[Parallel(n_jobs=6)]: Done 120 out of 120 | elapsed:   33.1s finished\n"
     ]
    },
    {
     "name": "stdout",
     "output_type": "stream",
     "text": [
      "Fitting 10 folds for each of 12 candidates, totalling 120 fits\n"
     ]
    },
    {
     "name": "stderr",
     "output_type": "stream",
     "text": [
      "[Parallel(n_jobs=6)]: Using backend LokyBackend with 6 concurrent workers.\n",
      "[Parallel(n_jobs=6)]: Done  26 tasks      | elapsed:    6.2s\n",
      "[Parallel(n_jobs=6)]: Done 120 out of 120 | elapsed:   32.9s finished\n"
     ]
    },
    {
     "name": "stdout",
     "output_type": "stream",
     "text": [
      "Fitting 10 folds for each of 12 candidates, totalling 120 fits\n"
     ]
    },
    {
     "name": "stderr",
     "output_type": "stream",
     "text": [
      "[Parallel(n_jobs=6)]: Using backend LokyBackend with 6 concurrent workers.\n",
      "[Parallel(n_jobs=6)]: Done  26 tasks      | elapsed:    6.2s\n",
      "[Parallel(n_jobs=6)]: Done 120 out of 120 | elapsed:   33.3s finished\n"
     ]
    },
    {
     "name": "stdout",
     "output_type": "stream",
     "text": [
      "Fitting 10 folds for each of 12 candidates, totalling 120 fits\n"
     ]
    },
    {
     "name": "stderr",
     "output_type": "stream",
     "text": [
      "[Parallel(n_jobs=6)]: Using backend LokyBackend with 6 concurrent workers.\n",
      "[Parallel(n_jobs=6)]: Done  26 tasks      | elapsed:    6.0s\n",
      "[Parallel(n_jobs=6)]: Done 120 out of 120 | elapsed:   32.8s finished\n"
     ]
    },
    {
     "name": "stdout",
     "output_type": "stream",
     "text": [
      "Fitting 10 folds for each of 12 candidates, totalling 120 fits\n"
     ]
    },
    {
     "name": "stderr",
     "output_type": "stream",
     "text": [
      "[Parallel(n_jobs=6)]: Using backend LokyBackend with 6 concurrent workers.\n",
      "[Parallel(n_jobs=6)]: Done  26 tasks      | elapsed:    6.2s\n",
      "[Parallel(n_jobs=6)]: Done 120 out of 120 | elapsed:   32.9s finished\n"
     ]
    },
    {
     "name": "stdout",
     "output_type": "stream",
     "text": [
      "Fitting 10 folds for each of 12 candidates, totalling 120 fits\n"
     ]
    },
    {
     "name": "stderr",
     "output_type": "stream",
     "text": [
      "[Parallel(n_jobs=6)]: Using backend LokyBackend with 6 concurrent workers.\n",
      "[Parallel(n_jobs=6)]: Done  26 tasks      | elapsed:    6.0s\n",
      "[Parallel(n_jobs=6)]: Done 120 out of 120 | elapsed:   32.5s finished\n"
     ]
    },
    {
     "name": "stdout",
     "output_type": "stream",
     "text": [
      "Fitting 10 folds for each of 12 candidates, totalling 120 fits\n"
     ]
    },
    {
     "name": "stderr",
     "output_type": "stream",
     "text": [
      "[Parallel(n_jobs=6)]: Using backend LokyBackend with 6 concurrent workers.\n",
      "[Parallel(n_jobs=6)]: Done  26 tasks      | elapsed:    6.0s\n",
      "[Parallel(n_jobs=6)]: Done 120 out of 120 | elapsed:   32.4s finished\n"
     ]
    },
    {
     "name": "stdout",
     "output_type": "stream",
     "text": [
      "Fitting 10 folds for each of 12 candidates, totalling 120 fits\n"
     ]
    },
    {
     "name": "stderr",
     "output_type": "stream",
     "text": [
      "[Parallel(n_jobs=6)]: Using backend LokyBackend with 6 concurrent workers.\n",
      "[Parallel(n_jobs=6)]: Done  26 tasks      | elapsed:    6.0s\n",
      "[Parallel(n_jobs=6)]: Done 120 out of 120 | elapsed:   32.7s finished\n"
     ]
    },
    {
     "name": "stdout",
     "output_type": "stream",
     "text": [
      "Fitting 10 folds for each of 12 candidates, totalling 120 fits\n"
     ]
    },
    {
     "name": "stderr",
     "output_type": "stream",
     "text": [
      "[Parallel(n_jobs=6)]: Using backend LokyBackend with 6 concurrent workers.\n",
      "[Parallel(n_jobs=6)]: Done  26 tasks      | elapsed:    6.1s\n",
      "[Parallel(n_jobs=6)]: Done 120 out of 120 | elapsed:   32.9s finished\n"
     ]
    },
    {
     "name": "stdout",
     "output_type": "stream",
     "text": [
      "Result computed for ('/results/NCI1_V3_.txt', 'results are:', 0.7096875867468901)\n"
     ]
    }
   ],
   "source": [
    "for file_name in dataset_list:\n",
    "    for i1 in ['_V1_','_V2_','_V3_']:\n",
    "        max_arr= []\n",
    "        for i2,seed in zip(range(0,10),[345,567,890,5678,78, 6,1122,101,11111,42]):\n",
    "            data_X = np.loadtxt(dir_name+str(i2)+'/'+file_name+i1+\".txt\")\n",
    "            data_y = np.loadtxt(dir_name+str(i2)+'/'+file_name+'_y.txt')\n",
    "            estimator  = RandomForestClassifier(criterion='gini', max_depth=None, min_samples_leaf=1, min_weight_fraction_leaf=0.0,\n",
    "                                                    max_leaf_nodes=None, bootstrap=True, \n",
    "                                                    oob_score=False, n_jobs=1,verbose=0, warm_start=False,\n",
    "                                                    class_weight=None)\n",
    "\n",
    "            param_grid = {'n_estimators':[50,100,500], 'max_features':['sqrt'], 'min_samples_split':[2,3,4,5]}\n",
    "            kf = StratifiedKFold(n_splits=10, random_state = seed, shuffle = True)\n",
    "            grid_rf    = GridSearchCV(estimator, param_grid, scoring=None, fit_params=None, n_jobs=N_JOBS, \n",
    "                         iid=False, refit=True, cv=kf, verbose=3, pre_dispatch='n_jobs', \n",
    "                         error_score='raise-deprecating',return_train_score=False)\n",
    "            #print(data_X.shape)\n",
    "            grid_rf.fit(data_X, data_y)\n",
    "            df = pd.DataFrame(grid_rf.cv_results_)\n",
    "            max_arr.append(df['mean_test_score'].max())\n",
    "            #grid_rf.cv_results_['mean_test_score']\n",
    "            #Pipeline2 = Pipeline([('drop_empty_column', dropCols(frac=1.0)),('grid_rf', grid_rf)])\n",
    "            #res = Pipeline2.fit(data_X, data_y)\n",
    "\n",
    "        pathlib.Path(\"results/\").mkdir(parents=True, exist_ok=True)\n",
    "        print('Result computed for', ('/results/'+file_name+str(i1)+\".txt\", 'results are:',np.mean(max_arr)))\n",
    "        np.savetxt('results/'+file_name +i1+'.csv', max_arr)"
   ]
  },
  {
   "cell_type": "code",
   "execution_count": 20,
   "metadata": {},
   "outputs": [],
   "source": []
  }
 ],
 "metadata": {
  "kernelspec": {
   "display_name": "Python 3",
   "language": "python",
   "name": "python3"
  },
  "language_info": {
   "codemirror_mode": {
    "name": "ipython",
    "version": 3
   },
   "file_extension": ".py",
   "mimetype": "text/x-python",
   "name": "python",
   "nbconvert_exporter": "python",
   "pygments_lexer": "ipython3",
   "version": "3.7.1"
  }
 },
 "nbformat": 4,
 "nbformat_minor": 2
}
